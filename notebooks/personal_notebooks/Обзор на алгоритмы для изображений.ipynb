{
 "cells": [
  {
   "cell_type": "markdown",
   "metadata": {},
   "source": [
    "Для определения размера и текстуры опухолей на гистологических снимках, можно комбинировать модели и инструменты из открытых библиотек, таких как Hugging Face, MONAI, PyTorch и TensorFlow. Вот конкретные варианты выбора и комбинации моделей для этой задачи:\n",
    "\n",
    "Подход к задаче\n",
    "\n",
    "1. Определение размера опухоли: Используем модели для сегментации или детекции объектов, которые определяют контуры или границы опухоли.\n",
    "\n",
    "2. Анализ текстуры опухоли: Применяем модели для анализа текстур и паттернов, что включает извлечение признаков с помощью сверточных нейросетей или трансформеров для изображений."
   ]
  },
  {
   "cell_type": "markdown",
   "metadata": {},
   "source": [
    "Обзор на рекомендованные алгоритмы\n",
    "______\n",
    "https://huggingface.co/ Hugging Face\n",
    "Hugging Face - это платформа, которая объединяет сообщество для совместной работы над моделями машинного обучения, наборами данных и приложениями. Она предоставляет доступ к более чем 150,000 моделям, 25,000 наборам данных и 30,000 приложениям машинного обучения\n",
    "_________\n",
    "https://monai.io/ \n",
    "https://github.com/Project-MONAI/MONAI\n",
    "MONAI\n",
    "MONAI (Medical Open Network for AI) - это открытый исследовательский проект, направленный на ускорение исследований и клинического сотрудничества в области медицинской визуализации. Он основан на библиотеке PyTorch и предоставляет набор инструментов для разработки и внедрения моделей глубокого обучения для медицинских изображений2.\n",
    "\n",
    "Основные компоненты MONAI включают:\n",
    "\n",
    "MONAI Core: Основная библиотека, предоставляющая доменные возможности для тренировки моделей AI для медицинской визуализации.\n",
    "\n",
    "MONAI Label: Инструмент для машинного обучения и метки изображений, который помогает уменьшить время и усилия, необходимые для аннотации новых наборов данных.\n",
    "\n",
    "MONAI Deploy: Фреймворк для разработки, тестирования, развертывания и запуска приложений AI в клинической производственной среде\n",
    "__________________-\n",
    "PyTorch\n",
    "PyTorch — это популярная и мощная библиотека для глубокого обучения с открытым исходным кодом, разработанная Facebook's AI Research lab (FAIR). Она используется для разработки и тренировки моделей машинного обучения, особенно в области компьютерного зрения и обработки естественного языка. \n",
    "____________________\n",
    "TensorFlow — это одна из самых популярных библиотек для машинного обучения и глубокого обучения с открытым исходным кодом, разработанная Google. Она используется для создания и обучения моделей машинного обучения, особенно нейронных сетей."
   ]
  },
  {
   "cell_type": "markdown",
   "metadata": {},
   "source": [
    "## Варианты выбора моделей и их комбинаций\n"
   ]
  },
  {
   "cell_type": "markdown",
   "metadata": {},
   "source": [
    "1. Модели для сегментации опухоли\n",
    "\n",
    "Сегментация позволяет выделить опухолевую ткань и определить ее границы.\n",
    "Рекомендованные модели:\n",
    "\n",
    "U-Net (MONAI):\n",
    "\n",
    "Универсальная архитектура для медицинской сегментации.\n",
    "\n",
    "Пример использования: сегментация масок опухоли.\n"
   ]
  },
  {
   "cell_type": "markdown",
   "metadata": {},
   "source": [
    "U-Net (MONAI):\n",
    "U-Net — это архитектура нейронной сети, часто используемая для задачи сегментации изображений, особенно в медицинской визуализации. MONAI (Medical Open Network for AI) предоставляет реализацию U-Net, которая может быть использована для тренировки и валидации моделей на медицинских изображениях1.\n",
    "\n",
    "Основные особенности U-Net в MONAI:\n",
    "Архитектура U-Net:\n",
    "\n",
    "U-Net имеет сверху-низовую структуру, которая позволяет сети эффективно обрабатывать данные высокого разрешения.\n",
    "\n",
    "Сеть состоит из двух частей: сжимающей части (downsampling) и расширяющей части (upsampling).\n",
    "\n",
    "Применение в MONAI:\n",
    "\n",
    "* MONAI предоставляет модуль BasicUNet, который можно использовать для создания и тренировки моделей U-Net.\n",
    "\n",
    "* MONAI также поддерживает различные дополнительные функции, такие как аугментация данных, нормализация, активационные функции и многое другое.\n",
    "\n",
    "* Пример использования U-Net в MONAI:\n",
    "\n",
    "Вот пример создания и тренировки модели U-Net с использованием MONAI:"
   ]
  },
  {
   "cell_type": "code",
   "execution_count": 2,
   "metadata": {},
   "outputs": [
    {
     "name": "stdout",
     "output_type": "stream",
     "text": [
      "Requirement already satisfied: monai in c:\\users\\ruzho\\anaconda3\\lib\\site-packages (1.4.0)\n",
      "Requirement already satisfied: numpy<2.0,>=1.24 in c:\\users\\ruzho\\anaconda3\\lib\\site-packages (from monai) (1.26.4)\n",
      "Requirement already satisfied: torch>=1.9 in c:\\users\\ruzho\\anaconda3\\lib\\site-packages (from monai) (2.5.1)\n",
      "Requirement already satisfied: filelock in c:\\users\\ruzho\\anaconda3\\lib\\site-packages (from torch>=1.9->monai) (3.13.1)\n",
      "Requirement already satisfied: typing-extensions>=4.8.0 in c:\\users\\ruzho\\anaconda3\\lib\\site-packages (from torch>=1.9->monai) (4.9.0)\n",
      "Requirement already satisfied: networkx in c:\\users\\ruzho\\anaconda3\\lib\\site-packages (from torch>=1.9->monai) (3.1)\n",
      "Requirement already satisfied: jinja2 in c:\\users\\ruzho\\anaconda3\\lib\\site-packages (from torch>=1.9->monai) (3.1.3)\n",
      "Requirement already satisfied: fsspec in c:\\users\\ruzho\\anaconda3\\lib\\site-packages (from torch>=1.9->monai) (2023.10.0)\n",
      "Requirement already satisfied: sympy==1.13.1 in c:\\users\\ruzho\\anaconda3\\lib\\site-packages (from torch>=1.9->monai) (1.13.1)\n",
      "Requirement already satisfied: mpmath<1.4,>=1.1.0 in c:\\users\\ruzho\\anaconda3\\lib\\site-packages (from sympy==1.13.1->torch>=1.9->monai) (1.3.0)\n",
      "Requirement already satisfied: MarkupSafe>=2.0 in c:\\users\\ruzho\\anaconda3\\lib\\site-packages (from jinja2->torch>=1.9->monai) (2.1.3)\n",
      "Note: you may need to restart the kernel to use updated packages.\n"
     ]
    }
   ],
   "source": [
    "pip install monai\n"
   ]
  },
  {
   "cell_type": "code",
   "execution_count": null,
   "metadata": {},
   "outputs": [],
   "source": [
    "import monai\n",
    "print(monai.__version__)\n"
   ]
  },
  {
   "cell_type": "code",
   "execution_count": 4,
   "metadata": {},
   "outputs": [
    {
     "name": "stdout",
     "output_type": "stream",
     "text": [
      "Requirement already satisfied: torch in c:\\users\\ruzho\\anaconda3\\lib\\site-packages (2.5.1)\n",
      "Collecting torchvision\n",
      "  Downloading torchvision-0.20.1-cp311-cp311-win_amd64.whl.metadata (6.2 kB)\n",
      "Requirement already satisfied: filelock in c:\\users\\ruzho\\anaconda3\\lib\\site-packages (from torch) (3.13.1)\n",
      "Requirement already satisfied: typing-extensions>=4.8.0 in c:\\users\\ruzho\\anaconda3\\lib\\site-packages (from torch) (4.9.0)\n",
      "Requirement already satisfied: networkx in c:\\users\\ruzho\\anaconda3\\lib\\site-packages (from torch) (3.1)\n",
      "Requirement already satisfied: jinja2 in c:\\users\\ruzho\\anaconda3\\lib\\site-packages (from torch) (3.1.3)\n",
      "Requirement already satisfied: fsspec in c:\\users\\ruzho\\anaconda3\\lib\\site-packages (from torch) (2023.10.0)\n",
      "Requirement already satisfied: sympy==1.13.1 in c:\\users\\ruzho\\anaconda3\\lib\\site-packages (from torch) (1.13.1)\n",
      "Requirement already satisfied: mpmath<1.4,>=1.1.0 in c:\\users\\ruzho\\anaconda3\\lib\\site-packages (from sympy==1.13.1->torch) (1.3.0)\n",
      "Requirement already satisfied: numpy in c:\\users\\ruzho\\anaconda3\\lib\\site-packages (from torchvision) (1.26.4)\n",
      "Requirement already satisfied: pillow!=8.3.*,>=5.3.0 in c:\\users\\ruzho\\anaconda3\\lib\\site-packages (from torchvision) (10.2.0)\n",
      "Requirement already satisfied: MarkupSafe>=2.0 in c:\\users\\ruzho\\anaconda3\\lib\\site-packages (from jinja2->torch) (2.1.3)\n",
      "Downloading torchvision-0.20.1-cp311-cp311-win_amd64.whl (1.6 MB)\n",
      "   ---------------------------------------- 0.0/1.6 MB ? eta -:--:--\n",
      "   ---------------------------------------- 0.0/1.6 MB ? eta -:--:--\n",
      "   - -------------------------------------- 0.0/1.6 MB 487.6 kB/s eta 0:00:04\n",
      "   --- ------------------------------------ 0.1/1.6 MB 901.1 kB/s eta 0:00:02\n",
      "   -------- ------------------------------- 0.3/1.6 MB 1.9 MB/s eta 0:00:01\n",
      "   --------------- ------------------------ 0.6/1.6 MB 2.7 MB/s eta 0:00:01\n",
      "   -------------------------------- ------- 1.3/1.6 MB 5.0 MB/s eta 0:00:01\n",
      "   ---------------------------------------- 1.6/1.6 MB 5.8 MB/s eta 0:00:00\n",
      "Installing collected packages: torchvision\n",
      "Successfully installed torchvision-0.20.1\n",
      "Note: you may need to restart the kernel to use updated packages.\n"
     ]
    }
   ],
   "source": [
    "pip install torch torchvision\n"
   ]
  },
  {
   "cell_type": "code",
   "execution_count": 5,
   "metadata": {},
   "outputs": [
    {
     "ename": "",
     "evalue": "",
     "output_type": "error",
     "traceback": [
      "\u001b[1;31mПри выполнении кода в текущей ячейке или предыдущей ячейке ядро аварийно завершило работу. \n",
      "\u001b[1;31mПроверьте код в ячейках, чтобы определить возможную причину сбоя. \n",
      "\u001b[1;31mЩелкните <a href='https://aka.ms/vscodeJupyterKernelCrash'>здесь</a>, чтобы получить дополнительные сведения. \n",
      "\u001b[1;31mПодробнее см. в <a href='command:jupyter.viewOutput'>журнале Jupyter</a>."
     ]
    }
   ],
   "source": [
    "from monai.networks.nets import BasicUNet\n",
    "from monai.transforms import Compose, LoadImaged, ScaleIntensityd, ToTensord\n",
    "from monai.data import DataLoader, Dataset\n",
    "from monai.losses import DiceLoss\n",
    "from monai.metrics import DiceMetric\n",
    "from monai.handlers import CheckpointHandler, TensorBoardHandler\n",
    "from monai.utils import set_determinism\n",
    "import torch.optim as optim\n",
    "\n",
    "# Настройка трансформаций\n",
    "transforms = Compose([\n",
    "    LoadImaged(keys=['image', 'label']),\n",
    "    ScaleIntensityd(keys=['image']),\n",
    "    ToTensord(keys=['image', 'label']),\n",
    "])\n",
    "\n",
    "# Создание набора данных\n",
    "dataset = Dataset(data=train_files, transform=transforms)\n",
    "dataloader = DataLoader(dataset, batch_size=4, shuffle=True, num_workers=4)\n",
    "\n",
    "# Создание модели\n",
    "model = BasicUNet(\n",
    "    spatial_dims=3,\n",
    "    in_channels=1,\n",
    "    out_channels=1,\n",
    "    channels=(16, 32, 64, 128, 256),\n",
    "    strides=(2, 2, 2, 2),\n",
    "    kernel_size=3,\n",
    "    act='relu',\n",
    "    norm='batch',\n",
    "    dropout=0.2,\n",
    ")\n",
    "\n",
    "# Определение функции потерь и оптимизатора\n",
    "loss_function = DiceLoss(sigmoid=True)\n",
    "optimizer = optim.Adam(model.parameters(), lr=1e-3)\n",
    "\n",
    "# Тренировка модели\n",
    "model.train()\n",
    "for epoch in range(10):\n",
    "    epoch_loss = 0\n",
    "    for batch in dataloader:\n",
    "        inputs, targets = batch['image'], batch['label']\n",
    "        optimizer.zero_grad()\n",
    "        outputs = model(inputs)\n",
    "        loss = loss_function(outputs, targets)\n",
    "        loss.backward()\n",
    "        optimizer.step()\n",
    "        epoch_loss += loss.item()\n",
    "    print(f'Epoch {epoch + 1}, Loss: {epoch_loss / len(dataloader)}')\n"
   ]
  }
 ],
 "metadata": {
  "kernelspec": {
   "display_name": "base",
   "language": "python",
   "name": "python3"
  },
  "language_info": {
   "codemirror_mode": {
    "name": "ipython",
    "version": 3
   },
   "file_extension": ".py",
   "mimetype": "text/x-python",
   "name": "python",
   "nbconvert_exporter": "python",
   "pygments_lexer": "ipython3",
   "version": "3.11.7"
  }
 },
 "nbformat": 4,
 "nbformat_minor": 2
}
