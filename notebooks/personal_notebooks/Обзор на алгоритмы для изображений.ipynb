{
 "cells": [
  {
   "cell_type": "markdown",
   "metadata": {},
   "source": [
    "Для определения размера и текстуры опухолей на гистологических снимках, можно комбинировать модели и инструменты из открытых библиотек, таких как Hugging Face, MONAI, PyTorch и TensorFlow. Вот конкретные варианты выбора и комбинации моделей для этой задачи:\n",
    "\n",
    "Подход к задаче\n",
    "\n",
    "1. Определение размера опухоли: Используем модели для сегментации или детекции объектов, которые определяют контуры или границы опухоли.\n",
    "\n",
    "2. Анализ текстуры опухоли: Применяем модели для анализа текстур и паттернов, что включает извлечение признаков с помощью сверточных нейросетей или трансформеров для изображений."
   ]
  },
  {
   "cell_type": "markdown",
   "metadata": {},
   "source": [
    "Обзор на рекомендованные алгоритмы\n",
    "______\n",
    "https://huggingface.co/ Hugging Face\n",
    "Hugging Face - это платформа, которая объединяет сообщество для совместной работы над моделями машинного обучения, наборами данных и приложениями. Она предоставляет доступ к более чем 150,000 моделям, 25,000 наборам данных и 30,000 приложениям машинного обучения\n",
    "_________\n",
    "https://monai.io/ \n",
    "https://github.com/Project-MONAI/MONAI\n",
    "MONAI\n",
    "MONAI (Medical Open Network for AI) - это открытый исследовательский проект, направленный на ускорение исследований и клинического сотрудничества в области медицинской визуализации. Он основан на библиотеке PyTorch и предоставляет набор инструментов для разработки и внедрения моделей глубокого обучения для медицинских изображений2.\n",
    "\n",
    "Основные компоненты MONAI включают:\n",
    "\n",
    "MONAI Core: Основная библиотека, предоставляющая доменные возможности для тренировки моделей AI для медицинской визуализации.\n",
    "\n",
    "MONAI Label: Инструмент для машинного обучения и метки изображений, который помогает уменьшить время и усилия, необходимые для аннотации новых наборов данных.\n",
    "\n",
    "MONAI Deploy: Фреймворк для разработки, тестирования, развертывания и запуска приложений AI в клинической производственной среде\n",
    "__________________-\n",
    "PyTorch\n",
    "PyTorch — это популярная и мощная библиотека для глубокого обучения с открытым исходным кодом, разработанная Facebook's AI Research lab (FAIR). Она используется для разработки и тренировки моделей машинного обучения, особенно в области компьютерного зрения и обработки естественного языка. \n",
    "____________________\n",
    "TensorFlow — это одна из самых популярных библиотек для машинного обучения и глубокого обучения с открытым исходным кодом, разработанная Google. Она используется для создания и обучения моделей машинного обучения, особенно нейронных сетей."
   ]
  },
  {
   "cell_type": "markdown",
   "metadata": {},
   "source": [
    "## Варианты выбора моделей и их комбинаций\n"
   ]
  },
  {
   "cell_type": "markdown",
   "metadata": {},
   "source": [
    "### 1. Модели для сегментации опухоли\n",
    "\n",
    "Сегментация позволяет выделить опухолевую ткань и определить ее границы.\n",
    "Рекомендованные модели:\n",
    "\n",
    "### U-Net (MONAI):\n",
    "\n",
    "Универсальная архитектура для медицинской сегментации.\n",
    "\n",
    "Пример использования: сегментация масок опухоли.\n"
   ]
  },
  {
   "cell_type": "markdown",
   "metadata": {},
   "source": [
    "U-Net (MONAI):\n",
    "U-Net — это архитектура нейронной сети, часто используемая для задачи сегментации изображений, особенно в медицинской визуализации. MONAI (Medical Open Network for AI) предоставляет реализацию U-Net, которая может быть использована для тренировки и валидации моделей на медицинских изображениях1.\n",
    "\n",
    "Основные особенности U-Net в MONAI:\n",
    "Архитектура U-Net:\n",
    "\n",
    "U-Net имеет сверху-низовую структуру, которая позволяет сети эффективно обрабатывать данные высокого разрешения.\n",
    "\n",
    "Сеть состоит из двух частей: сжимающей части (downsampling) и расширяющей части (upsampling).\n",
    "\n",
    "Применение в MONAI:\n",
    "\n",
    "* MONAI предоставляет модуль BasicUNet, который можно использовать для создания и тренировки моделей U-Net.\n",
    "\n",
    "* MONAI также поддерживает различные дополнительные функции, такие как аугментация данных, нормализация, активационные функции и многое другое.\n",
    "\n",
    "* Пример использования U-Net в MONAI:\n",
    "\n",
    "Вот пример создания и тренировки модели U-Net с использованием MONAI:"
   ]
  },
  {
   "cell_type": "markdown",
   "metadata": {},
   "source": [
    " ###  !!!! перезапуск KErnel, чтобы не было ошибок. Kernel - это частая причина ошибок\n",
    "\n",
    "как презапустить kernel в vscode\n",
    "Для перезапуска ядра (kernel) в Visual Studio Code, следуйте этим шагам:\n",
    "\n",
    "Откройте терминал или панель команд (Command Palette):\n",
    "\n",
    "Нажмите Ctrl+Shift+P (или Cmd+Shift+P на Mac), чтобы открыть панель команд.\n",
    "\n",
    "Введите команду:\n",
    "\n",
    "Введите Jupyter: Restart Kernel в поисковую строку панели команд и нажмите Enter.\n",
    "\n",
    "Выберите ядро:\n",
    "\n",
    "Если у вас несколько ядер, выберите то, которое нужно перезапустить.\n",
    "\n",
    "Подтвердите действие:\n",
    "\n",
    "Подтвердите перезапуск ядра, если будет предложено."
   ]
  },
  {
   "cell_type": "code",
   "execution_count": 1,
   "metadata": {},
   "outputs": [
    {
     "name": "stdout",
     "output_type": "stream",
     "text": [
      "Requirement already satisfied: numpy in c:\\users\\ruzho\\anaconda3\\lib\\site-packages (1.26.4)\n",
      "Collecting numpy\n",
      "  Using cached numpy-2.1.3-cp311-cp311-win_amd64.whl.metadata (60 kB)\n",
      "Requirement already satisfied: scipy in c:\\users\\ruzho\\anaconda3\\lib\\site-packages (1.14.1)\n",
      "Using cached numpy-2.1.3-cp311-cp311-win_amd64.whl (12.9 MB)\n",
      "Installing collected packages: numpy\n",
      "  Attempting uninstall: numpy\n",
      "    Found existing installation: numpy 1.26.4\n",
      "    Uninstalling numpy-1.26.4:\n",
      "      Successfully uninstalled numpy-1.26.4\n",
      "Successfully installed numpy-2.1.3\n",
      "Note: you may need to restart the kernel to use updated packages.\n"
     ]
    },
    {
     "name": "stderr",
     "output_type": "stream",
     "text": [
      "ERROR: pip's dependency resolver does not currently take into account all the packages that are installed. This behaviour is the source of the following dependency conflicts.\n",
      "gensim 4.3.0 requires FuzzyTM>=0.4.0, which is not installed.\n",
      "astropy 5.3.4 requires numpy<2,>=1.21, but you have numpy 2.1.3 which is incompatible.\n",
      "contourpy 1.2.0 requires numpy<2.0,>=1.20, but you have numpy 2.1.3 which is incompatible.\n",
      "matplotlib 3.8.0 requires numpy<2,>=1.21, but you have numpy 2.1.3 which is incompatible.\n",
      "monai 1.4.0 requires numpy<2.0,>=1.24, but you have numpy 2.1.3 which is incompatible.\n",
      "numba 0.59.0 requires numpy<1.27,>=1.22, but you have numpy 2.1.3 which is incompatible.\n",
      "pandas 2.1.4 requires numpy<2,>=1.23.2; python_version == \"3.11\", but you have numpy 2.1.3 which is incompatible.\n",
      "pywavelets 1.5.0 requires numpy<2.0,>=1.22.4, but you have numpy 2.1.3 which is incompatible.\n",
      "streamlit 1.30.0 requires numpy<2,>=1.19.3, but you have numpy 2.1.3 which is incompatible.\n",
      "tensorflow-intel 2.17.0 requires numpy<2.0.0,>=1.23.5; python_version <= \"3.11\", but you have numpy 2.1.3 which is incompatible.\n"
     ]
    }
   ],
   "source": [
    "pip install --upgrade numpy scipy\n"
   ]
  },
  {
   "cell_type": "code",
   "execution_count": 2,
   "metadata": {},
   "outputs": [
    {
     "name": "stdout",
     "output_type": "stream",
     "text": [
      "Requirement already satisfied: jupyter in c:\\users\\ruzho\\anaconda3\\lib\\site-packages (1.1.1)\n",
      "Requirement already satisfied: jupyterlab in c:\\users\\ruzho\\anaconda3\\lib\\site-packages (4.0.13)\n",
      "Collecting jupyterlab\n",
      "  Using cached jupyterlab-4.3.1-py3-none-any.whl.metadata (16 kB)\n",
      "Requirement already satisfied: notebook in c:\\users\\ruzho\\anaconda3\\lib\\site-packages (from jupyter) (7.0.8)\n",
      "Requirement already satisfied: jupyter-console in c:\\users\\ruzho\\anaconda3\\lib\\site-packages (from jupyter) (6.6.3)\n",
      "Requirement already satisfied: nbconvert in c:\\users\\ruzho\\anaconda3\\lib\\site-packages (from jupyter) (7.10.0)\n",
      "Requirement already satisfied: ipykernel in c:\\users\\ruzho\\anaconda3\\lib\\site-packages (from jupyter) (6.28.0)\n",
      "Requirement already satisfied: ipywidgets in c:\\users\\ruzho\\anaconda3\\lib\\site-packages (from jupyter) (7.6.5)\n",
      "Requirement already satisfied: async-lru>=1.0.0 in c:\\users\\ruzho\\anaconda3\\lib\\site-packages (from jupyterlab) (2.0.4)\n",
      "Requirement already satisfied: httpx>=0.25.0 in c:\\users\\ruzho\\anaconda3\\lib\\site-packages (from jupyterlab) (0.27.0)\n",
      "Requirement already satisfied: jinja2>=3.0.3 in c:\\users\\ruzho\\anaconda3\\lib\\site-packages (from jupyterlab) (3.1.3)\n",
      "Requirement already satisfied: jupyter-core in c:\\users\\ruzho\\anaconda3\\lib\\site-packages (from jupyterlab) (5.5.0)\n",
      "Requirement already satisfied: jupyter-lsp>=2.0.0 in c:\\users\\ruzho\\anaconda3\\lib\\site-packages (from jupyterlab) (2.2.0)\n",
      "Requirement already satisfied: jupyter-server<3,>=2.4.0 in c:\\users\\ruzho\\anaconda3\\lib\\site-packages (from jupyterlab) (2.10.0)\n",
      "Requirement already satisfied: jupyterlab-server<3,>=2.27.1 in c:\\users\\ruzho\\anaconda3\\lib\\site-packages (from jupyterlab) (2.27.3)\n",
      "Requirement already satisfied: notebook-shim>=0.2 in c:\\users\\ruzho\\anaconda3\\lib\\site-packages (from jupyterlab) (0.2.3)\n",
      "Requirement already satisfied: packaging in c:\\users\\ruzho\\anaconda3\\lib\\site-packages (from jupyterlab) (23.1)\n",
      "Requirement already satisfied: setuptools>=40.1.0 in c:\\users\\ruzho\\anaconda3\\lib\\site-packages (from jupyterlab) (75.5.0)\n",
      "Requirement already satisfied: tornado>=6.2.0 in c:\\users\\ruzho\\anaconda3\\lib\\site-packages (from jupyterlab) (6.3.3)\n",
      "Requirement already satisfied: traitlets in c:\\users\\ruzho\\anaconda3\\lib\\site-packages (from jupyterlab) (5.7.1)\n",
      "Requirement already satisfied: anyio in c:\\users\\ruzho\\anaconda3\\lib\\site-packages (from httpx>=0.25.0->jupyterlab) (4.2.0)\n",
      "Requirement already satisfied: certifi in c:\\users\\ruzho\\anaconda3\\lib\\site-packages (from httpx>=0.25.0->jupyterlab) (2024.8.30)\n",
      "Requirement already satisfied: httpcore==1.* in c:\\users\\ruzho\\anaconda3\\lib\\site-packages (from httpx>=0.25.0->jupyterlab) (1.0.2)\n",
      "Requirement already satisfied: idna in c:\\users\\ruzho\\anaconda3\\lib\\site-packages (from httpx>=0.25.0->jupyterlab) (3.4)\n",
      "Requirement already satisfied: sniffio in c:\\users\\ruzho\\anaconda3\\lib\\site-packages (from httpx>=0.25.0->jupyterlab) (1.3.0)\n",
      "Requirement already satisfied: h11<0.15,>=0.13 in c:\\users\\ruzho\\anaconda3\\lib\\site-packages (from httpcore==1.*->httpx>=0.25.0->jupyterlab) (0.14.0)\n",
      "Requirement already satisfied: comm>=0.1.1 in c:\\users\\ruzho\\anaconda3\\lib\\site-packages (from ipykernel->jupyter) (0.1.2)\n",
      "Requirement already satisfied: debugpy>=1.6.5 in c:\\users\\ruzho\\anaconda3\\lib\\site-packages (from ipykernel->jupyter) (1.6.7)\n",
      "Requirement already satisfied: ipython>=7.23.1 in c:\\users\\ruzho\\anaconda3\\lib\\site-packages (from ipykernel->jupyter) (8.20.0)\n",
      "Requirement already satisfied: jupyter-client>=6.1.12 in c:\\users\\ruzho\\anaconda3\\lib\\site-packages (from ipykernel->jupyter) (8.6.0)\n",
      "Requirement already satisfied: matplotlib-inline>=0.1 in c:\\users\\ruzho\\anaconda3\\lib\\site-packages (from ipykernel->jupyter) (0.1.6)\n",
      "Requirement already satisfied: nest-asyncio in c:\\users\\ruzho\\anaconda3\\lib\\site-packages (from ipykernel->jupyter) (1.6.0)\n",
      "Requirement already satisfied: psutil in c:\\users\\ruzho\\anaconda3\\lib\\site-packages (from ipykernel->jupyter) (5.9.0)\n",
      "Requirement already satisfied: pyzmq>=24 in c:\\users\\ruzho\\anaconda3\\lib\\site-packages (from ipykernel->jupyter) (25.1.2)\n",
      "Requirement already satisfied: MarkupSafe>=2.0 in c:\\users\\ruzho\\anaconda3\\lib\\site-packages (from jinja2>=3.0.3->jupyterlab) (2.1.3)\n",
      "Requirement already satisfied: platformdirs>=2.5 in c:\\users\\ruzho\\anaconda3\\lib\\site-packages (from jupyter-core->jupyterlab) (3.10.0)\n",
      "Requirement already satisfied: pywin32>=300 in c:\\users\\ruzho\\anaconda3\\lib\\site-packages (from jupyter-core->jupyterlab) (305.1)\n",
      "Requirement already satisfied: argon2-cffi in c:\\users\\ruzho\\anaconda3\\lib\\site-packages (from jupyter-server<3,>=2.4.0->jupyterlab) (21.3.0)\n",
      "Requirement already satisfied: jupyter-events>=0.6.0 in c:\\users\\ruzho\\anaconda3\\lib\\site-packages (from jupyter-server<3,>=2.4.0->jupyterlab) (0.8.0)\n",
      "Requirement already satisfied: jupyter-server-terminals in c:\\users\\ruzho\\anaconda3\\lib\\site-packages (from jupyter-server<3,>=2.4.0->jupyterlab) (0.4.4)\n",
      "Requirement already satisfied: nbformat>=5.3.0 in c:\\users\\ruzho\\anaconda3\\lib\\site-packages (from jupyter-server<3,>=2.4.0->jupyterlab) (5.9.2)\n",
      "Requirement already satisfied: overrides in c:\\users\\ruzho\\anaconda3\\lib\\site-packages (from jupyter-server<3,>=2.4.0->jupyterlab) (7.4.0)\n",
      "Requirement already satisfied: prometheus-client in c:\\users\\ruzho\\anaconda3\\lib\\site-packages (from jupyter-server<3,>=2.4.0->jupyterlab) (0.14.1)\n",
      "Requirement already satisfied: pywinpty in c:\\users\\ruzho\\anaconda3\\lib\\site-packages (from jupyter-server<3,>=2.4.0->jupyterlab) (2.0.10)\n",
      "Requirement already satisfied: send2trash>=1.8.2 in c:\\users\\ruzho\\anaconda3\\lib\\site-packages (from jupyter-server<3,>=2.4.0->jupyterlab) (1.8.2)\n",
      "Requirement already satisfied: terminado>=0.8.3 in c:\\users\\ruzho\\anaconda3\\lib\\site-packages (from jupyter-server<3,>=2.4.0->jupyterlab) (0.17.1)\n",
      "Requirement already satisfied: websocket-client in c:\\users\\ruzho\\anaconda3\\lib\\site-packages (from jupyter-server<3,>=2.4.0->jupyterlab) (0.58.0)\n",
      "Requirement already satisfied: babel>=2.10 in c:\\users\\ruzho\\anaconda3\\lib\\site-packages (from jupyterlab-server<3,>=2.27.1->jupyterlab) (2.11.0)\n",
      "Requirement already satisfied: json5>=0.9.0 in c:\\users\\ruzho\\anaconda3\\lib\\site-packages (from jupyterlab-server<3,>=2.27.1->jupyterlab) (0.9.6)\n",
      "Requirement already satisfied: jsonschema>=4.18.0 in c:\\users\\ruzho\\anaconda3\\lib\\site-packages (from jupyterlab-server<3,>=2.27.1->jupyterlab) (4.19.2)\n",
      "Requirement already satisfied: requests>=2.31 in c:\\users\\ruzho\\anaconda3\\lib\\site-packages (from jupyterlab-server<3,>=2.27.1->jupyterlab) (2.31.0)\n",
      "Requirement already satisfied: beautifulsoup4 in c:\\users\\ruzho\\anaconda3\\lib\\site-packages (from nbconvert->jupyter) (4.12.2)\n",
      "Requirement already satisfied: bleach!=5.0.0 in c:\\users\\ruzho\\anaconda3\\lib\\site-packages (from nbconvert->jupyter) (4.1.0)\n",
      "Requirement already satisfied: defusedxml in c:\\users\\ruzho\\anaconda3\\lib\\site-packages (from nbconvert->jupyter) (0.7.1)\n",
      "Requirement already satisfied: jupyterlab-pygments in c:\\users\\ruzho\\anaconda3\\lib\\site-packages (from nbconvert->jupyter) (0.1.2)\n",
      "Requirement already satisfied: mistune<4,>=2.0.3 in c:\\users\\ruzho\\anaconda3\\lib\\site-packages (from nbconvert->jupyter) (2.0.4)\n",
      "Requirement already satisfied: nbclient>=0.5.0 in c:\\users\\ruzho\\anaconda3\\lib\\site-packages (from nbconvert->jupyter) (0.8.0)\n",
      "Requirement already satisfied: pandocfilters>=1.4.1 in c:\\users\\ruzho\\anaconda3\\lib\\site-packages (from nbconvert->jupyter) (1.5.0)\n",
      "Requirement already satisfied: pygments>=2.4.1 in c:\\users\\ruzho\\anaconda3\\lib\\site-packages (from nbconvert->jupyter) (2.15.1)\n",
      "Requirement already satisfied: tinycss2 in c:\\users\\ruzho\\anaconda3\\lib\\site-packages (from nbconvert->jupyter) (1.2.1)\n",
      "Requirement already satisfied: ipython-genutils~=0.2.0 in c:\\users\\ruzho\\anaconda3\\lib\\site-packages (from ipywidgets->jupyter) (0.2.0)\n",
      "Requirement already satisfied: widgetsnbextension~=3.5.0 in c:\\users\\ruzho\\anaconda3\\lib\\site-packages (from ipywidgets->jupyter) (3.5.2)\n",
      "Requirement already satisfied: jupyterlab-widgets>=1.0.0 in c:\\users\\ruzho\\anaconda3\\lib\\site-packages (from ipywidgets->jupyter) (3.0.9)\n",
      "Requirement already satisfied: prompt-toolkit>=3.0.30 in c:\\users\\ruzho\\anaconda3\\lib\\site-packages (from jupyter-console->jupyter) (3.0.43)\n",
      "Requirement already satisfied: pytz>=2015.7 in c:\\users\\ruzho\\anaconda3\\lib\\site-packages (from babel>=2.10->jupyterlab-server<3,>=2.27.1->jupyterlab) (2023.3.post1)\n",
      "Requirement already satisfied: six>=1.9.0 in c:\\users\\ruzho\\anaconda3\\lib\\site-packages (from bleach!=5.0.0->nbconvert->jupyter) (1.16.0)\n",
      "Requirement already satisfied: webencodings in c:\\users\\ruzho\\anaconda3\\lib\\site-packages (from bleach!=5.0.0->nbconvert->jupyter) (0.5.1)\n",
      "Requirement already satisfied: decorator in c:\\users\\ruzho\\anaconda3\\lib\\site-packages (from ipython>=7.23.1->ipykernel->jupyter) (5.1.1)\n",
      "Requirement already satisfied: jedi>=0.16 in c:\\users\\ruzho\\anaconda3\\lib\\site-packages (from ipython>=7.23.1->ipykernel->jupyter) (0.18.1)\n",
      "Requirement already satisfied: stack-data in c:\\users\\ruzho\\anaconda3\\lib\\site-packages (from ipython>=7.23.1->ipykernel->jupyter) (0.2.0)\n",
      "Requirement already satisfied: colorama in c:\\users\\ruzho\\anaconda3\\lib\\site-packages (from ipython>=7.23.1->ipykernel->jupyter) (0.4.6)\n",
      "Requirement already satisfied: attrs>=22.2.0 in c:\\users\\ruzho\\anaconda3\\lib\\site-packages (from jsonschema>=4.18.0->jupyterlab-server<3,>=2.27.1->jupyterlab) (23.1.0)\n",
      "Requirement already satisfied: jsonschema-specifications>=2023.03.6 in c:\\users\\ruzho\\anaconda3\\lib\\site-packages (from jsonschema>=4.18.0->jupyterlab-server<3,>=2.27.1->jupyterlab) (2023.7.1)\n",
      "Requirement already satisfied: referencing>=0.28.4 in c:\\users\\ruzho\\anaconda3\\lib\\site-packages (from jsonschema>=4.18.0->jupyterlab-server<3,>=2.27.1->jupyterlab) (0.30.2)\n",
      "Requirement already satisfied: rpds-py>=0.7.1 in c:\\users\\ruzho\\anaconda3\\lib\\site-packages (from jsonschema>=4.18.0->jupyterlab-server<3,>=2.27.1->jupyterlab) (0.10.6)\n",
      "Requirement already satisfied: python-dateutil>=2.8.2 in c:\\users\\ruzho\\anaconda3\\lib\\site-packages (from jupyter-client>=6.1.12->ipykernel->jupyter) (2.8.2)\n",
      "Requirement already satisfied: python-json-logger>=2.0.4 in c:\\users\\ruzho\\anaconda3\\lib\\site-packages (from jupyter-events>=0.6.0->jupyter-server<3,>=2.4.0->jupyterlab) (2.0.7)\n",
      "Requirement already satisfied: pyyaml>=5.3 in c:\\users\\ruzho\\anaconda3\\lib\\site-packages (from jupyter-events>=0.6.0->jupyter-server<3,>=2.4.0->jupyterlab) (6.0.1)\n",
      "Requirement already satisfied: rfc3339-validator in c:\\users\\ruzho\\anaconda3\\lib\\site-packages (from jupyter-events>=0.6.0->jupyter-server<3,>=2.4.0->jupyterlab) (0.1.4)\n",
      "Requirement already satisfied: rfc3986-validator>=0.1.1 in c:\\users\\ruzho\\anaconda3\\lib\\site-packages (from jupyter-events>=0.6.0->jupyter-server<3,>=2.4.0->jupyterlab) (0.1.1)\n",
      "Requirement already satisfied: fastjsonschema in c:\\users\\ruzho\\anaconda3\\lib\\site-packages (from nbformat>=5.3.0->jupyter-server<3,>=2.4.0->jupyterlab) (2.16.2)\n",
      "Requirement already satisfied: wcwidth in c:\\users\\ruzho\\anaconda3\\lib\\site-packages (from prompt-toolkit>=3.0.30->jupyter-console->jupyter) (0.2.5)\n",
      "Requirement already satisfied: charset-normalizer<4,>=2 in c:\\users\\ruzho\\anaconda3\\lib\\site-packages (from requests>=2.31->jupyterlab-server<3,>=2.27.1->jupyterlab) (2.0.4)\n",
      "Requirement already satisfied: urllib3<3,>=1.21.1 in c:\\users\\ruzho\\anaconda3\\lib\\site-packages (from requests>=2.31->jupyterlab-server<3,>=2.27.1->jupyterlab) (2.0.7)\n",
      "Requirement already satisfied: argon2-cffi-bindings in c:\\users\\ruzho\\anaconda3\\lib\\site-packages (from argon2-cffi->jupyter-server<3,>=2.4.0->jupyterlab) (21.2.0)\n",
      "Requirement already satisfied: soupsieve>1.2 in c:\\users\\ruzho\\anaconda3\\lib\\site-packages (from beautifulsoup4->nbconvert->jupyter) (2.5)\n",
      "Requirement already satisfied: parso<0.9.0,>=0.8.0 in c:\\users\\ruzho\\anaconda3\\lib\\site-packages (from jedi>=0.16->ipython>=7.23.1->ipykernel->jupyter) (0.8.3)\n",
      "Requirement already satisfied: fqdn in c:\\users\\ruzho\\anaconda3\\lib\\site-packages (from jsonschema[format-nongpl]>=4.18.0->jupyter-events>=0.6.0->jupyter-server<3,>=2.4.0->jupyterlab) (1.5.1)\n",
      "Requirement already satisfied: isoduration in c:\\users\\ruzho\\anaconda3\\lib\\site-packages (from jsonschema[format-nongpl]>=4.18.0->jupyter-events>=0.6.0->jupyter-server<3,>=2.4.0->jupyterlab) (20.11.0)\n",
      "Requirement already satisfied: jsonpointer>1.13 in c:\\users\\ruzho\\anaconda3\\lib\\site-packages (from jsonschema[format-nongpl]>=4.18.0->jupyter-events>=0.6.0->jupyter-server<3,>=2.4.0->jupyterlab) (2.1)\n",
      "Requirement already satisfied: uri-template in c:\\users\\ruzho\\anaconda3\\lib\\site-packages (from jsonschema[format-nongpl]>=4.18.0->jupyter-events>=0.6.0->jupyter-server<3,>=2.4.0->jupyterlab) (1.3.0)\n",
      "Requirement already satisfied: webcolors>=1.11 in c:\\users\\ruzho\\anaconda3\\lib\\site-packages (from jsonschema[format-nongpl]>=4.18.0->jupyter-events>=0.6.0->jupyter-server<3,>=2.4.0->jupyterlab) (24.11.1)\n",
      "Requirement already satisfied: cffi>=1.0.1 in c:\\users\\ruzho\\anaconda3\\lib\\site-packages (from argon2-cffi-bindings->argon2-cffi->jupyter-server<3,>=2.4.0->jupyterlab) (1.16.0)\n",
      "Requirement already satisfied: executing in c:\\users\\ruzho\\anaconda3\\lib\\site-packages (from stack-data->ipython>=7.23.1->ipykernel->jupyter) (0.8.3)\n",
      "Requirement already satisfied: asttokens in c:\\users\\ruzho\\anaconda3\\lib\\site-packages (from stack-data->ipython>=7.23.1->ipykernel->jupyter) (2.0.5)\n",
      "Requirement already satisfied: pure-eval in c:\\users\\ruzho\\anaconda3\\lib\\site-packages (from stack-data->ipython>=7.23.1->ipykernel->jupyter) (0.2.2)\n",
      "Requirement already satisfied: pycparser in c:\\users\\ruzho\\anaconda3\\lib\\site-packages (from cffi>=1.0.1->argon2-cffi-bindings->argon2-cffi->jupyter-server<3,>=2.4.0->jupyterlab) (2.21)\n",
      "Requirement already satisfied: arrow>=0.15.0 in c:\\users\\ruzho\\anaconda3\\lib\\site-packages (from isoduration->jsonschema[format-nongpl]>=4.18.0->jupyter-events>=0.6.0->jupyter-server<3,>=2.4.0->jupyterlab) (1.2.3)\n",
      "Note: you may need to restart the kernel to use updated packages.\n"
     ]
    }
   ],
   "source": [
    "pip install --upgrade jupyter jupyterlab\n"
   ]
  },
  {
   "cell_type": "code",
   "execution_count": 3,
   "metadata": {},
   "outputs": [
    {
     "name": "stdout",
     "output_type": "stream",
     "text": [
      "Requirement already satisfied: monai in c:\\users\\ruzho\\anaconda3\\lib\\site-packages (1.4.0)Note: you may need to restart the kernel to use updated packages.\n",
      "\n",
      "Collecting numpy<2.0,>=1.24 (from monai)\n",
      "  Using cached numpy-1.26.4-cp311-cp311-win_amd64.whl.metadata (61 kB)\n",
      "Requirement already satisfied: torch>=1.9 in c:\\users\\ruzho\\anaconda3\\lib\\site-packages (from monai) (2.5.1)\n",
      "Requirement already satisfied: filelock in c:\\users\\ruzho\\anaconda3\\lib\\site-packages (from torch>=1.9->monai) (3.13.1)\n",
      "Requirement already satisfied: typing-extensions>=4.8.0 in c:\\users\\ruzho\\anaconda3\\lib\\site-packages (from torch>=1.9->monai) (4.9.0)\n",
      "Requirement already satisfied: networkx in c:\\users\\ruzho\\anaconda3\\lib\\site-packages (from torch>=1.9->monai) (3.1)\n",
      "Requirement already satisfied: jinja2 in c:\\users\\ruzho\\anaconda3\\lib\\site-packages (from torch>=1.9->monai) (3.1.3)\n",
      "Requirement already satisfied: fsspec in c:\\users\\ruzho\\anaconda3\\lib\\site-packages (from torch>=1.9->monai) (2023.10.0)\n",
      "Requirement already satisfied: sympy==1.13.1 in c:\\users\\ruzho\\anaconda3\\lib\\site-packages (from torch>=1.9->monai) (1.13.1)\n",
      "Requirement already satisfied: mpmath<1.4,>=1.1.0 in c:\\users\\ruzho\\anaconda3\\lib\\site-packages (from sympy==1.13.1->torch>=1.9->monai) (1.3.0)\n",
      "Requirement already satisfied: MarkupSafe>=2.0 in c:\\users\\ruzho\\anaconda3\\lib\\site-packages (from jinja2->torch>=1.9->monai) (2.1.3)\n",
      "Using cached numpy-1.26.4-cp311-cp311-win_amd64.whl (15.8 MB)\n",
      "Installing collected packages: numpy\n",
      "  Attempting uninstall: numpy\n",
      "    Found existing installation: numpy 2.1.3\n",
      "    Uninstalling numpy-2.1.3:\n",
      "      Successfully uninstalled numpy-2.1.3\n",
      "Successfully installed numpy-1.26.4\n"
     ]
    },
    {
     "name": "stderr",
     "output_type": "stream",
     "text": [
      "ERROR: pip's dependency resolver does not currently take into account all the packages that are installed. This behaviour is the source of the following dependency conflicts.\n",
      "gensim 4.3.0 requires FuzzyTM>=0.4.0, which is not installed.\n"
     ]
    }
   ],
   "source": [
    "pip install monai\n"
   ]
  },
  {
   "cell_type": "code",
   "execution_count": 4,
   "metadata": {},
   "outputs": [
    {
     "name": "stdout",
     "output_type": "stream",
     "text": [
      "Requirement already satisfied: torch in c:\\users\\ruzho\\anaconda3\\lib\\site-packages (2.5.1)\n",
      "Requirement already satisfied: torchvision in c:\\users\\ruzho\\anaconda3\\lib\\site-packages (0.20.1)\n",
      "Requirement already satisfied: filelock in c:\\users\\ruzho\\anaconda3\\lib\\site-packages (from torch) (3.13.1)\n",
      "Requirement already satisfied: typing-extensions>=4.8.0 in c:\\users\\ruzho\\anaconda3\\lib\\site-packages (from torch) (4.9.0)\n",
      "Requirement already satisfied: networkx in c:\\users\\ruzho\\anaconda3\\lib\\site-packages (from torch) (3.1)\n",
      "Requirement already satisfied: jinja2 in c:\\users\\ruzho\\anaconda3\\lib\\site-packages (from torch) (3.1.3)\n",
      "Requirement already satisfied: fsspec in c:\\users\\ruzho\\anaconda3\\lib\\site-packages (from torch) (2023.10.0)\n",
      "Requirement already satisfied: sympy==1.13.1 in c:\\users\\ruzho\\anaconda3\\lib\\site-packages (from torch) (1.13.1)\n",
      "Requirement already satisfied: mpmath<1.4,>=1.1.0 in c:\\users\\ruzho\\anaconda3\\lib\\site-packages (from sympy==1.13.1->torch) (1.3.0)\n",
      "Requirement already satisfied: numpy in c:\\users\\ruzho\\anaconda3\\lib\\site-packages (from torchvision) (1.26.4)\n",
      "Requirement already satisfied: pillow!=8.3.*,>=5.3.0 in c:\\users\\ruzho\\anaconda3\\lib\\site-packages (from torchvision) (10.2.0)\n",
      "Requirement already satisfied: MarkupSafe>=2.0 in c:\\users\\ruzho\\anaconda3\\lib\\site-packages (from jinja2->torch) (2.1.3)\n",
      "Note: you may need to restart the kernel to use updated packages.\n"
     ]
    }
   ],
   "source": [
    "pip install torch torchvision\n"
   ]
  },
  {
   "cell_type": "code",
   "execution_count": 5,
   "metadata": {},
   "outputs": [
    {
     "ename": "ImportError",
     "evalue": "cannot import name 'CheckpointHandler' from 'monai.handlers' (c:\\Users\\ruzho\\anaconda3\\Lib\\site-packages\\monai\\handlers\\__init__.py)",
     "output_type": "error",
     "traceback": [
      "\u001b[1;31m---------------------------------------------------------------------------\u001b[0m",
      "\u001b[1;31mImportError\u001b[0m                               Traceback (most recent call last)",
      "Cell \u001b[1;32mIn[5], line 6\u001b[0m\n\u001b[0;32m      4\u001b[0m \u001b[38;5;28;01mfrom\u001b[39;00m \u001b[38;5;21;01mmonai\u001b[39;00m\u001b[38;5;21;01m.\u001b[39;00m\u001b[38;5;21;01mlosses\u001b[39;00m \u001b[38;5;28;01mimport\u001b[39;00m DiceLoss\n\u001b[0;32m      5\u001b[0m \u001b[38;5;28;01mfrom\u001b[39;00m \u001b[38;5;21;01mmonai\u001b[39;00m\u001b[38;5;21;01m.\u001b[39;00m\u001b[38;5;21;01mmetrics\u001b[39;00m \u001b[38;5;28;01mimport\u001b[39;00m DiceMetric\n\u001b[1;32m----> 6\u001b[0m \u001b[38;5;28;01mfrom\u001b[39;00m \u001b[38;5;21;01mmonai\u001b[39;00m\u001b[38;5;21;01m.\u001b[39;00m\u001b[38;5;21;01mhandlers\u001b[39;00m \u001b[38;5;28;01mimport\u001b[39;00m CheckpointHandler, TensorBoardHandler\n\u001b[0;32m      7\u001b[0m \u001b[38;5;28;01mfrom\u001b[39;00m \u001b[38;5;21;01mmonai\u001b[39;00m\u001b[38;5;21;01m.\u001b[39;00m\u001b[38;5;21;01mutils\u001b[39;00m \u001b[38;5;28;01mimport\u001b[39;00m set_determinism\n\u001b[0;32m      8\u001b[0m \u001b[38;5;28;01mimport\u001b[39;00m \u001b[38;5;21;01mtorch\u001b[39;00m\u001b[38;5;21;01m.\u001b[39;00m\u001b[38;5;21;01moptim\u001b[39;00m \u001b[38;5;28;01mas\u001b[39;00m \u001b[38;5;21;01moptim\u001b[39;00m\n",
      "\u001b[1;31mImportError\u001b[0m: cannot import name 'CheckpointHandler' from 'monai.handlers' (c:\\Users\\ruzho\\anaconda3\\Lib\\site-packages\\monai\\handlers\\__init__.py)"
     ]
    }
   ],
   "source": [
    "from monai.networks.nets import BasicUNet\n",
    "from monai.transforms import Compose, LoadImaged, ScaleIntensityd, ToTensord\n",
    "from monai.data import DataLoader, Dataset\n",
    "from monai.losses import DiceLoss\n",
    "from monai.metrics import DiceMetric\n",
    "from monai.handlers import CheckpointHandler, TensorBoardHandler\n",
    "from monai.utils import set_determinism\n",
    "import torch.optim as optim\n",
    "\n",
    "# Настройка трансформаций\n",
    "transforms = Compose([\n",
    "    LoadImaged(keys=['image', 'label']),\n",
    "    ScaleIntensityd(keys=['image']),\n",
    "    ToTensord(keys=['image', 'label']),\n",
    "])\n",
    "\n",
    "# Создание набора данных\n",
    "dataset = Dataset(data=train_files, transform=transforms)\n",
    "dataloader = DataLoader(dataset, batch_size=4, shuffle=True, num_workers=4)\n",
    "\n",
    "# Создание модели\n",
    "model = BasicUNet(\n",
    "    spatial_dims=3,\n",
    "    in_channels=1,\n",
    "    out_channels=1,\n",
    "    channels=(16, 32, 64, 128, 256),\n",
    "    strides=(2, 2, 2, 2),\n",
    "    kernel_size=3,\n",
    "    act='relu',\n",
    "    norm='batch',\n",
    "    dropout=0.2,\n",
    ")\n",
    "\n",
    "# Определение функции потерь и оптимизатора\n",
    "loss_function = DiceLoss(sigmoid=True)\n",
    "optimizer = optim.Adam(model.parameters(), lr=1e-3)\n",
    "\n",
    "# Тренировка модели\n",
    "model.train()\n",
    "for epoch in range(10):\n",
    "    epoch_loss = 0\n",
    "    for batch in dataloader:\n",
    "        inputs, targets = batch['image'], batch['label']\n",
    "        optimizer.zero_grad()\n",
    "        outputs = model(inputs)\n",
    "        loss = loss_function(outputs, targets)\n",
    "        loss.backward()\n",
    "        optimizer.step()\n",
    "        epoch_loss += loss.item()\n",
    "    print(f'Epoch {epoch + 1}, Loss: {epoch_loss / len(dataloader)}')\n"
   ]
  },
  {
   "cell_type": "markdown",
   "metadata": {},
   "source": [
    "* SegFormer — это архитектура для семантической сегментации изображений, использующая трансформеры. Она была представлена в статье \"SegFormer: Simple and Efficient Design for Semantic Segmentation with Transformers\". SegFormer использует иерархическую архитектуру трансформеров (называемую \"Mix Transformer\") в качестве кодера и легковесный декодер для сегментации.\n",
    "\n",
    "* Основные особенности SegFormer:\n",
    "* 1. Эффективность: SegFormer обеспечивает высокую производительность при сегментации изображений, используя трансформеры.\n",
    "\n",
    "* 2. Простота: Архитектура SegFormer проста и легко воспроизводима.\n",
    "\n",
    "* 3. Поддержка множественных классов: SegFormer поддерживает множественную классификацию на уровне пикселей."
   ]
  },
  {
   "cell_type": "code",
   "execution_count": 6,
   "metadata": {},
   "outputs": [
    {
     "name": "stdout",
     "output_type": "stream",
     "text": [
      "Requirement already satisfied: transformers in c:\\users\\ruzho\\anaconda3\\lib\\site-packages (4.46.3)\n",
      "Requirement already satisfied: filelock in c:\\users\\ruzho\\anaconda3\\lib\\site-packages (from transformers) (3.13.1)\n",
      "Requirement already satisfied: huggingface-hub<1.0,>=0.23.2 in c:\\users\\ruzho\\anaconda3\\lib\\site-packages (from transformers) (0.26.2)\n",
      "Requirement already satisfied: numpy>=1.17 in c:\\users\\ruzho\\anaconda3\\lib\\site-packages (from transformers) (1.26.4)\n",
      "Requirement already satisfied: packaging>=20.0 in c:\\users\\ruzho\\anaconda3\\lib\\site-packages (from transformers) (23.1)\n",
      "Requirement already satisfied: pyyaml>=5.1 in c:\\users\\ruzho\\anaconda3\\lib\\site-packages (from transformers) (6.0.1)\n",
      "Requirement already satisfied: regex!=2019.12.17 in c:\\users\\ruzho\\anaconda3\\lib\\site-packages (from transformers) (2023.10.3)\n",
      "Requirement already satisfied: requests in c:\\users\\ruzho\\anaconda3\\lib\\site-packages (from transformers) (2.31.0)\n",
      "Requirement already satisfied: tokenizers<0.21,>=0.20 in c:\\users\\ruzho\\anaconda3\\lib\\site-packages (from transformers) (0.20.3)\n",
      "Requirement already satisfied: safetensors>=0.4.1 in c:\\users\\ruzho\\anaconda3\\lib\\site-packages (from transformers) (0.4.5)\n",
      "Requirement already satisfied: tqdm>=4.27 in c:\\users\\ruzho\\anaconda3\\lib\\site-packages (from transformers) (4.65.0)\n",
      "Requirement already satisfied: fsspec>=2023.5.0 in c:\\users\\ruzho\\anaconda3\\lib\\site-packages (from huggingface-hub<1.0,>=0.23.2->transformers) (2023.10.0)\n",
      "Requirement already satisfied: typing-extensions>=3.7.4.3 in c:\\users\\ruzho\\anaconda3\\lib\\site-packages (from huggingface-hub<1.0,>=0.23.2->transformers) (4.9.0)\n",
      "Requirement already satisfied: colorama in c:\\users\\ruzho\\anaconda3\\lib\\site-packages (from tqdm>=4.27->transformers) (0.4.6)\n",
      "Requirement already satisfied: charset-normalizer<4,>=2 in c:\\users\\ruzho\\anaconda3\\lib\\site-packages (from requests->transformers) (2.0.4)\n",
      "Requirement already satisfied: idna<4,>=2.5 in c:\\users\\ruzho\\anaconda3\\lib\\site-packages (from requests->transformers) (3.4)\n",
      "Requirement already satisfied: urllib3<3,>=1.21.1 in c:\\users\\ruzho\\anaconda3\\lib\\site-packages (from requests->transformers) (2.0.7)\n",
      "Requirement already satisfied: certifi>=2017.4.17 in c:\\users\\ruzho\\anaconda3\\lib\\site-packages (from requests->transformers) (2024.8.30)\n",
      "Note: you may need to restart the kernel to use updated packages.\n"
     ]
    }
   ],
   "source": [
    "pip install transformers\n"
   ]
  },
  {
   "cell_type": "code",
   "execution_count": 7,
   "metadata": {},
   "outputs": [],
   "source": [
    "from transformers import SegformerImageProcessor, AutoModelForSemanticSegmentation\n",
    "from PIL import Image\n",
    "import requests\n",
    "import torch.nn.functional as F\n",
    "import matplotlib.pyplot as plt"
   ]
  },
  {
   "cell_type": "code",
   "execution_count": 8,
   "metadata": {},
   "outputs": [
    {
     "name": "stderr",
     "output_type": "stream",
     "text": [
      "c:\\Users\\ruzho\\anaconda3\\Lib\\site-packages\\transformers\\utils\\deprecation.py:165: UserWarning: The following named arguments are not valid for `SegformerImageProcessor.__init__` and were ignored: 'feature_extractor_type'\n",
      "  return func(*args, **kwargs)\n"
     ]
    },
    {
     "data": {
      "image/png": "[encoded data removed]",
      "text/plain": [
       "<Figure size 640x480 with 1 Axes>"
      ]
     },
     "metadata": {},
     "output_type": "display_data"
    }
   ],
   "source": [
    "from transformers import SegformerImageProcessor, AutoModelForSemanticSegmentation\n",
    "from PIL import Image\n",
    "import requests\n",
    "import torch.nn.functional as F\n",
    "import matplotlib.pyplot as plt\n",
    "\n",
    "# Загрузка обработчика изображений и модели\n",
    "processor = SegformerImageProcessor.from_pretrained(\"mattmdjaga/segformer_b2_clothes\")\n",
    "model = AutoModelForSemanticSegmentation.from_pretrained(\"mattmdjaga/segformer_b2_clothes\")\n",
    "\n",
    "# Загрузка изображения\n",
    "url = \"https://plus.unsplash.com/premium_photo-1673210886161-bfcc40f54d1f?ixlib=rb-4.0.3&ixid=MnwxMjA3fDB8MHxzZWFyY2h8MXx8cGVyc29uJTIwc3RhbmRpbmd8ZW58MHx8MHx8&w=1000&q=80\"\n",
    "image = Image.open(requests.get(url, stream=True).raw)\n",
    "\n",
    "# Обработка изображения\n",
    "inputs = processor(images=image, return_tensors=\"pt\")\n",
    "outputs = model(**inputs)\n",
    "logits = outputs.logits.cpu()\n",
    "\n",
    "# Восстановление размера изображения\n",
    "upsampled_logits = F.interpolate(logits, size=image.size[::-1], mode=\"bilinear\", align_corners=False)\n",
    "pred_seg = upsampled_logits.argmax(dim=1)[0]\n",
    "\n",
    "# Отображение результатов\n",
    "plt.imshow(pred_seg)\n",
    "plt.show()\n"
   ]
  },
  {
   "cell_type": "markdown",
   "metadata": {},
   "source": [
    "nnU-Net:\n",
    "nnU-Net (no-new-Net) — это автоматически адаптирующийся фреймворк для сегментации медицинских изображений на основе архитектуры U-Net. Он был разработан исследователями из Медицинского Центра Карлсберг (DKFZ) и предназначен для упрощения процесса настройки и обучения моделей для различных задач сегментации.\n",
    "\n",
    "Основные особенности nnU-Net:\n",
    "* Автоматическая настройка: nnU-Net анализирует предоставленные данные и автоматически конфигурирует соответствующую  U-Net-подобную схему сегментации.\n",
    "\n",
    "* Поддержка 2D и 3D: Фреймворк поддерживает как 2D, так и 3D изображения.\n",
    "\n",
    "* Высокая производительность: nnU-Net показал высокую производительность на многих конкурсах по сегментации медицинских изображений.\n",
    "\n",
    "* Простота использования: Нет необходимости в ручной настройке, что делает его доступным для специалистов, даже не являющихся экспертами в области глубокого обучения."
   ]
  },
  {
   "cell_type": "code",
   "execution_count": 9,
   "metadata": {},
   "outputs": [
    {
     "name": "stdout",
     "output_type": "stream",
     "text": [
      "Requirement already satisfied: scikit-image in c:\\users\\ruzho\\anaconda3\\lib\\site-packages (0.22.0)Note: you may need to restart the kernel to use updated packages.\n",
      "\n",
      "Requirement already satisfied: numpy>=1.22 in c:\\users\\ruzho\\anaconda3\\lib\\site-packages (from scikit-image) (1.26.4)\n",
      "Requirement already satisfied: scipy>=1.8 in c:\\users\\ruzho\\anaconda3\\lib\\site-packages (from scikit-image) (1.14.1)\n",
      "Requirement already satisfied: networkx>=2.8 in c:\\users\\ruzho\\anaconda3\\lib\\site-packages (from scikit-image) (3.1)\n",
      "Requirement already satisfied: pillow>=9.0.1 in c:\\users\\ruzho\\anaconda3\\lib\\site-packages (from scikit-image) (10.2.0)\n",
      "Requirement already satisfied: imageio>=2.27 in c:\\users\\ruzho\\anaconda3\\lib\\site-packages (from scikit-image) (2.33.1)\n",
      "Requirement already satisfied: tifffile>=2022.8.12 in c:\\users\\ruzho\\anaconda3\\lib\\site-packages (from scikit-image) (2023.4.12)\n",
      "Requirement already satisfied: packaging>=21 in c:\\users\\ruzho\\anaconda3\\lib\\site-packages (from scikit-image) (23.1)\n",
      "Requirement already satisfied: lazy_loader>=0.3 in c:\\users\\ruzho\\anaconda3\\lib\\site-packages (from scikit-image) (0.3)\n"
     ]
    }
   ],
   "source": [
    "pip install scikit-image\n"
   ]
  },
  {
   "cell_type": "code",
   "execution_count": 10,
   "metadata": {},
   "outputs": [],
   "source": [
    "# pip install --upgrade setuptools\n"
   ]
  },
  {
   "cell_type": "markdown",
   "metadata": {},
   "source": [
    "* После этого шага требуется перезапуск ядра KErnel"
   ]
  },
  {
   "cell_type": "markdown",
   "metadata": {},
   "source": [
    "* ЭТОТ алгоритм выдает ошибку, скорее всего придётся делать вручную всё"
   ]
  },
  {
   "cell_type": "code",
   "execution_count": 11,
   "metadata": {},
   "outputs": [
    {
     "name": "stdout",
     "output_type": "stream",
     "text": [
      "Collecting nnunet\n",
      "  Using cached nnunet-1.7.1.tar.gz (276 kB)\n",
      "  Preparing metadata (setup.py): started\n",
      "  Preparing metadata (setup.py): finished with status 'error'\n",
      "Note: you may need to restart the kernel to use updated packages.\n"
     ]
    },
    {
     "name": "stderr",
     "output_type": "stream",
     "text": [
      "  error: subprocess-exited-with-error\n",
      "  \n",
      "  × python setup.py egg_info did not run successfully.\n",
      "  │ exit code: 1\n",
      "  ╰─> [1 lines of output]\n",
      "      ERROR: Can not execute `setup.py` since setuptools is not available in the build environment.\n",
      "      [end of output]\n",
      "  \n",
      "  note: This error originates from a subprocess, and is likely not a problem with pip.\n",
      "error: metadata-generation-failed\n",
      "\n",
      "× Encountered error while generating package metadata.\n",
      "╰─> See above for output.\n",
      "\n",
      "note: This is an issue with the package mentioned above, not pip.\n",
      "hint: See above for details.\n"
     ]
    }
   ],
   "source": [
    "pip install nnunet\n"
   ]
  },
  {
   "cell_type": "code",
   "execution_count": 12,
   "metadata": {},
   "outputs": [
    {
     "ename": "ModuleNotFoundError",
     "evalue": "No module named 'nnunet'",
     "output_type": "error",
     "traceback": [
      "\u001b[1;31m---------------------------------------------------------------------------\u001b[0m",
      "\u001b[1;31mModuleNotFoundError\u001b[0m                       Traceback (most recent call last)",
      "Cell \u001b[1;32mIn[12], line 4\u001b[0m\n\u001b[0;32m      1\u001b[0m \u001b[38;5;66;03m# Предполагается, что у вас уже установлены необходимые библиотеки, такие как TensorFlow или PyTorch\u001b[39;00m\n\u001b[0;32m      2\u001b[0m \n\u001b[0;32m      3\u001b[0m \u001b[38;5;66;03m# Загрузка и настройка модели\u001b[39;00m\n\u001b[1;32m----> 4\u001b[0m \u001b[38;5;28;01mfrom\u001b[39;00m \u001b[38;5;21;01mnnunet\u001b[39;00m\u001b[38;5;21;01m.\u001b[39;00m\u001b[38;5;21;01mexperiment_planning\u001b[39;00m \u001b[38;5;28;01mimport\u001b[39;00m ExperimentPlanner\n\u001b[0;32m      5\u001b[0m \u001b[38;5;28;01mfrom\u001b[39;00m \u001b[38;5;21;01mnnunet\u001b[39;00m\u001b[38;5;21;01m.\u001b[39;00m\u001b[38;5;21;01mnetwork_architecture\u001b[39;00m\u001b[38;5;21;01m.\u001b[39;00m\u001b[38;5;21;01mgeneric_UNet\u001b[39;00m \u001b[38;5;28;01mimport\u001b[39;00m Generic_UNet\n\u001b[0;32m      6\u001b[0m \u001b[38;5;28;01mfrom\u001b[39;00m \u001b[38;5;21;01mnnunet\u001b[39;00m\u001b[38;5;21;01m.\u001b[39;00m\u001b[38;5;21;01mpaths\u001b[39;00m \u001b[38;5;28;01mimport\u001b[39;00m preprocessing_output_dir, preprocessing_output_dir_for_dataset\n",
      "\u001b[1;31mModuleNotFoundError\u001b[0m: No module named 'nnunet'"
     ]
    }
   ],
   "source": [
    "# Предполагается, что у вас уже установлены необходимые библиотеки, такие как TensorFlow или PyTorch\n",
    "\n",
    "# Загрузка и настройка модели\n",
    "from nnunet.experiment_planning import ExperimentPlanner\n",
    "from nnunet.network_architecture.generic_UNet import Generic_UNet\n",
    "from nnunet.paths import preprocessing_output_dir, preprocessing_output_dir_for_dataset\n",
    "from nnunet.utilities.file_utils import split_4d_array\n",
    "\n",
    "# Загрузка данных и настройка эксперимента\n",
    "planner = ExperimentPlanner()\n",
    "planner.find_optimal_checkpoint_preprocessing()\n",
    "planner.run_preprocessing()\n",
    "\n",
    "# Запуск обучения\n",
    "planner.run_training()\n"
   ]
  },
  {
   "cell_type": "markdown",
   "metadata": {},
   "source": [
    "* этот код на ремонте"
   ]
  },
  {
   "cell_type": "markdown",
   "metadata": {},
   "source": [
    "# 2. Модели для детекции объектов"
   ]
  },
  {
   "cell_type": "markdown",
   "metadata": {},
   "source": [
    "Для определения положения опухоли и ее размеров можно использовать модели для детекции объектов.\n",
    "Рекомендованные модели:"
   ]
  },
  {
   "cell_type": "markdown",
   "metadata": {},
   "source": [
    "### 2.1 * DETR (Detection Transformer) (Hugging Face):\n",
    "* DETR (Detection Transformer) - это модель для задачи обнаружения объектов, представленная в статье \"End-to-End Object Detection with Transformers\" от Carion et al. Основные особенности DETR включают использование архитектуры кодера-декодера на основе трансформеров после извлечения признаков, что позволяет прямо предсказывать прямоугольники объектов с минимальным постобработкой2.\n",
    "\n",
    "Основные моменты:\n",
    "1. Архитектура: DETR использует сверточный нейронный сеть (CNN) в качестве основы, а затем обрабатывает выходы через трансформер-кодер.\n",
    "\n",
    "2. Объектные запросы: Модель использует так называемые объектные запросы для обнаружения объектов в изображении.\n",
    "\n",
    "3. Обучение: Модель обучается с использованием бипартитного потери, которая сопоставляет предсказанные классы и прямоугольники объектов с реальными аннотациями."
   ]
  },
  {
   "cell_type": "code",
   "execution_count": 16,
   "metadata": {},
   "outputs": [
    {
     "name": "stdout",
     "output_type": "stream",
     "text": [
      "Requirement already satisfied: timm in c:\\users\\ruzho\\anaconda3\\lib\\site-packages (1.0.11)\n",
      "Requirement already satisfied: torch in c:\\users\\ruzho\\anaconda3\\lib\\site-packages (from timm) (2.5.1)\n",
      "Requirement already satisfied: torchvision in c:\\users\\ruzho\\anaconda3\\lib\\site-packages (from timm) (0.20.1)\n",
      "Requirement already satisfied: pyyaml in c:\\users\\ruzho\\anaconda3\\lib\\site-packages (from timm) (6.0.1)\n",
      "Requirement already satisfied: huggingface_hub in c:\\users\\ruzho\\anaconda3\\lib\\site-packages (from timm) (0.26.2)\n",
      "Requirement already satisfied: safetensors in c:\\users\\ruzho\\anaconda3\\lib\\site-packages (from timm) (0.4.5)\n",
      "Requirement already satisfied: filelock in c:\\users\\ruzho\\anaconda3\\lib\\site-packages (from huggingface_hub->timm) (3.13.1)\n",
      "Requirement already satisfied: fsspec>=2023.5.0 in c:\\users\\ruzho\\anaconda3\\lib\\site-packages (from huggingface_hub->timm) (2023.10.0)\n",
      "Requirement already satisfied: packaging>=20.9 in c:\\users\\ruzho\\anaconda3\\lib\\site-packages (from huggingface_hub->timm) (23.1)\n",
      "Requirement already satisfied: requests in c:\\users\\ruzho\\anaconda3\\lib\\site-packages (from huggingface_hub->timm) (2.31.0)\n",
      "Requirement already satisfied: tqdm>=4.42.1 in c:\\users\\ruzho\\anaconda3\\lib\\site-packages (from huggingface_hub->timm) (4.65.0)\n",
      "Requirement already satisfied: typing-extensions>=3.7.4.3 in c:\\users\\ruzho\\anaconda3\\lib\\site-packages (from huggingface_hub->timm) (4.9.0)\n",
      "Requirement already satisfied: networkx in c:\\users\\ruzho\\anaconda3\\lib\\site-packages (from torch->timm) (3.1)\n",
      "Requirement already satisfied: jinja2 in c:\\users\\ruzho\\anaconda3\\lib\\site-packages (from torch->timm) (3.1.3)\n",
      "Requirement already satisfied: sympy==1.13.1 in c:\\users\\ruzho\\anaconda3\\lib\\site-packages (from torch->timm) (1.13.1)\n",
      "Requirement already satisfied: mpmath<1.4,>=1.1.0 in c:\\users\\ruzho\\anaconda3\\lib\\site-packages (from sympy==1.13.1->torch->timm) (1.3.0)\n",
      "Requirement already satisfied: numpy in c:\\users\\ruzho\\anaconda3\\lib\\site-packages (from torchvision->timm) (1.26.4)\n",
      "Requirement already satisfied: pillow!=8.3.*,>=5.3.0 in c:\\users\\ruzho\\anaconda3\\lib\\site-packages (from torchvision->timm) (10.2.0)\n",
      "Requirement already satisfied: colorama in c:\\users\\ruzho\\anaconda3\\lib\\site-packages (from tqdm>=4.42.1->huggingface_hub->timm) (0.4.6)\n",
      "Requirement already satisfied: MarkupSafe>=2.0 in c:\\users\\ruzho\\anaconda3\\lib\\site-packages (from jinja2->torch->timm) (2.1.3)\n",
      "Requirement already satisfied: charset-normalizer<4,>=2 in c:\\users\\ruzho\\anaconda3\\lib\\site-packages (from requests->huggingface_hub->timm) (2.0.4)\n",
      "Requirement already satisfied: idna<4,>=2.5 in c:\\users\\ruzho\\anaconda3\\lib\\site-packages (from requests->huggingface_hub->timm) (3.4)\n",
      "Requirement already satisfied: urllib3<3,>=1.21.1 in c:\\users\\ruzho\\anaconda3\\lib\\site-packages (from requests->huggingface_hub->timm) (2.0.7)\n",
      "Requirement already satisfied: certifi>=2017.4.17 in c:\\users\\ruzho\\anaconda3\\lib\\site-packages (from requests->huggingface_hub->timm) (2024.8.30)\n",
      "Note: you may need to restart the kernel to use updated packages.\n"
     ]
    }
   ],
   "source": [
    "pip install timm"
   ]
  },
  {
   "cell_type": "code",
   "execution_count": null,
   "metadata": {},
   "outputs": [
    {
     "name": "stderr",
     "output_type": "stream",
     "text": [
      "Some weights of the model checkpoint at facebook/detr-resnet-50 were not used when initializing DetrForObjectDetection: ['model.backbone.conv_encoder.model.layer1.0.downsample.1.num_batches_tracked', 'model.backbone.conv_encoder.model.layer2.0.downsample.1.num_batches_tracked', 'model.backbone.conv_encoder.model.layer3.0.downsample.1.num_batches_tracked', 'model.backbone.conv_encoder.model.layer4.0.downsample.1.num_batches_tracked']\n",
      "- This IS expected if you are initializing DetrForObjectDetection from the checkpoint of a model trained on another task or with another architecture (e.g. initializing a BertForSequenceClassification model from a BertForPreTraining model).\n",
      "- This IS NOT expected if you are initializing DetrForObjectDetection from the checkpoint of a model that you expect to be exactly identical (initializing a BertForSequenceClassification model from a BertForSequenceClassification model).\n"
     ]
    },
    {
     "name": "stdout",
     "output_type": "stream",
     "text": [
      "Detected remote with confidence 0.998 at location [40.16, 70.81, 175.55, 117.98]\n",
      "Detected remote with confidence 0.996 at location [333.24, 72.55, 368.33, 187.66]\n",
      "Detected couch with confidence 0.995 at location [-0.02, 1.15, 639.73, 473.76]\n",
      "Detected cat with confidence 0.999 at location [13.24, 52.05, 314.02, 470.93]\n",
      "Detected cat with confidence 0.999 at location [345.4, 23.85, 640.37, 368.72]\n",
      "image\n"
     ]
    }
   ],
   "source": [
    "from transformers import DetrImageProcessor, DetrForObjectDetection\n",
    "import torch\n",
    "from PIL import Image\n",
    "import requests\n",
    "\n",
    "url = \"http://images.cocodataset.org/val2017/000000039769.jpg\"\n",
    "image = Image.open(requests.get(url, stream=True).raw)\n",
    "processor = DetrImageProcessor.from_pretrained(\"facebook/detr-resnet-50\")\n",
    "model = DetrForObjectDetection.from_pretrained(\"facebook/detr-resnet-50\")\n",
    "\n",
    "inputs = processor(images=image, return_tensors=\"pt\")\n",
    "outputs = model(**inputs)\n",
    "results = processor.post_process_object_detection(outputs, target_sizes=torch.tensor([image.size[::-1]]), threshold=0.9)[0]\n",
    "\n",
    "for score, label, box in zip(results[\"scores\"], results[\"labels\"], results[\"boxes\"]):\n",
    "    box = [round(i, 2) for i in box.tolist()]\n",
    "    print(f\"Detected {model.config.id2label[label.item()]} with confidence {round(score.item(), 3)} at location {box}\")\n"
   ]
  },
  {
   "cell_type": "markdown",
   "metadata": {},
   "source": [
    "## 2.2 YOLOv8 (Ultralytics):\n",
    "* YOLOv8 - это последняя версия модели YOLO (You Only Look Once) от Ultralytics, предназначенная для реального времени обнаружения объектов. Она включает ряд улучшений и новых функций, которые делают её идеальной для различных задач обнаружения объектов2.\n",
    "\n",
    "Основные особенности YOLOv8:\n",
    "1. Современные архитектуры основы и шеи: YOLOv8 использует передовые архитектуры основы и шеи, что улучшает извлечение признаков и производительность обнаружения объектов.\n",
    "\n",
    "2. Безанкерная голова Ultralytics: YOLOv8 использует безанкерную голову Ultralytics, что способствует лучшей точности и более эффективному процессу обнаружения.\n",
    "\n",
    "3. Оптимизация точности-скорости: Модель нацелена на поддержание оптимального баланса между точностью и скоростью, что делает её подходящей для задач обнаружения объектов в реальном времени.\n",
    "\n",
    "4. Разнообразие предварительно обученных моделей: YOLOv8 предлагает различные предварительно обученные модели для различных задач и требований к производительности."
   ]
  },
  {
   "cell_type": "markdown",
   "metadata": {},
   "source": [
    "очевидн оошибки перевода"
   ]
  },
  {
   "cell_type": "code",
   "execution_count": 4,
   "metadata": {},
   "outputs": [
    {
     "name": "stdout",
     "output_type": "stream",
     "text": [
      "Collecting ultralytics\n",
      "  Downloading ultralytics-8.3.33-py3-none-any.whl.metadata (35 kB)\n",
      "Requirement already satisfied: numpy>=1.23.0 in c:\\users\\ruzho\\anaconda3\\lib\\site-packages (from ultralytics) (1.26.4)\n",
      "Requirement already satisfied: matplotlib>=3.3.0 in c:\\users\\ruzho\\anaconda3\\lib\\site-packages (from ultralytics) (3.8.0)\n",
      "Collecting opencv-python>=4.6.0 (from ultralytics)\n",
      "  Downloading opencv_python-4.10.0.84-cp37-abi3-win_amd64.whl.metadata (20 kB)\n",
      "Requirement already satisfied: pillow>=7.1.2 in c:\\users\\ruzho\\anaconda3\\lib\\site-packages (from ultralytics) (10.2.0)\n",
      "Requirement already satisfied: pyyaml>=5.3.1 in c:\\users\\ruzho\\anaconda3\\lib\\site-packages (from ultralytics) (6.0.1)\n",
      "Requirement already satisfied: requests>=2.23.0 in c:\\users\\ruzho\\anaconda3\\lib\\site-packages (from ultralytics) (2.31.0)\n",
      "Requirement already satisfied: scipy>=1.4.1 in c:\\users\\ruzho\\anaconda3\\lib\\site-packages (from ultralytics) (1.14.1)\n",
      "Requirement already satisfied: torch>=1.8.0 in c:\\users\\ruzho\\anaconda3\\lib\\site-packages (from ultralytics) (2.5.1)\n",
      "Requirement already satisfied: torchvision>=0.9.0 in c:\\users\\ruzho\\anaconda3\\lib\\site-packages (from ultralytics) (0.20.1)\n",
      "Requirement already satisfied: tqdm>=4.64.0 in c:\\users\\ruzho\\anaconda3\\lib\\site-packages (from ultralytics) (4.65.0)\n",
      "Requirement already satisfied: psutil in c:\\users\\ruzho\\anaconda3\\lib\\site-packages (from ultralytics) (5.9.0)\n",
      "Requirement already satisfied: py-cpuinfo in c:\\users\\ruzho\\anaconda3\\lib\\site-packages (from ultralytics) (9.0.0)\n",
      "Requirement already satisfied: pandas>=1.1.4 in c:\\users\\ruzho\\anaconda3\\lib\\site-packages (from ultralytics) (2.1.4)\n",
      "Requirement already satisfied: seaborn>=0.11.0 in c:\\users\\ruzho\\anaconda3\\lib\\site-packages (from ultralytics) (0.12.2)\n",
      "Collecting ultralytics-thop>=2.0.0 (from ultralytics)\n",
      "  Downloading ultralytics_thop-2.0.12-py3-none-any.whl.metadata (9.4 kB)\n",
      "Requirement already satisfied: contourpy>=1.0.1 in c:\\users\\ruzho\\anaconda3\\lib\\site-packages (from matplotlib>=3.3.0->ultralytics) (1.2.0)\n",
      "Requirement already satisfied: cycler>=0.10 in c:\\users\\ruzho\\anaconda3\\lib\\site-packages (from matplotlib>=3.3.0->ultralytics) (0.11.0)\n",
      "Requirement already satisfied: fonttools>=4.22.0 in c:\\users\\ruzho\\anaconda3\\lib\\site-packages (from matplotlib>=3.3.0->ultralytics) (4.25.0)\n",
      "Requirement already satisfied: kiwisolver>=1.0.1 in c:\\users\\ruzho\\anaconda3\\lib\\site-packages (from matplotlib>=3.3.0->ultralytics) (1.4.4)\n",
      "Requirement already satisfied: packaging>=20.0 in c:\\users\\ruzho\\anaconda3\\lib\\site-packages (from matplotlib>=3.3.0->ultralytics) (23.1)\n",
      "Requirement already satisfied: pyparsing>=2.3.1 in c:\\users\\ruzho\\anaconda3\\lib\\site-packages (from matplotlib>=3.3.0->ultralytics) (3.0.9)\n",
      "Requirement already satisfied: python-dateutil>=2.7 in c:\\users\\ruzho\\anaconda3\\lib\\site-packages (from matplotlib>=3.3.0->ultralytics) (2.8.2)\n",
      "Requirement already satisfied: pytz>=2020.1 in c:\\users\\ruzho\\anaconda3\\lib\\site-packages (from pandas>=1.1.4->ultralytics) (2023.3.post1)\n",
      "Requirement already satisfied: tzdata>=2022.1 in c:\\users\\ruzho\\anaconda3\\lib\\site-packages (from pandas>=1.1.4->ultralytics) (2023.3)\n",
      "Requirement already satisfied: charset-normalizer<4,>=2 in c:\\users\\ruzho\\anaconda3\\lib\\site-packages (from requests>=2.23.0->ultralytics) (2.0.4)\n",
      "Requirement already satisfied: idna<4,>=2.5 in c:\\users\\ruzho\\anaconda3\\lib\\site-packages (from requests>=2.23.0->ultralytics) (3.4)\n",
      "Requirement already satisfied: urllib3<3,>=1.21.1 in c:\\users\\ruzho\\anaconda3\\lib\\site-packages (from requests>=2.23.0->ultralytics) (2.0.7)\n",
      "Requirement already satisfied: certifi>=2017.4.17 in c:\\users\\ruzho\\anaconda3\\lib\\site-packages (from requests>=2.23.0->ultralytics) (2024.8.30)\n",
      "Requirement already satisfied: filelock in c:\\users\\ruzho\\anaconda3\\lib\\site-packages (from torch>=1.8.0->ultralytics) (3.13.1)\n",
      "Requirement already satisfied: typing-extensions>=4.8.0 in c:\\users\\ruzho\\anaconda3\\lib\\site-packages (from torch>=1.8.0->ultralytics) (4.9.0)\n",
      "Requirement already satisfied: networkx in c:\\users\\ruzho\\anaconda3\\lib\\site-packages (from torch>=1.8.0->ultralytics) (3.1)\n",
      "Requirement already satisfied: jinja2 in c:\\users\\ruzho\\anaconda3\\lib\\site-packages (from torch>=1.8.0->ultralytics) (3.1.3)\n",
      "Requirement already satisfied: fsspec in c:\\users\\ruzho\\anaconda3\\lib\\site-packages (from torch>=1.8.0->ultralytics) (2023.10.0)\n",
      "Requirement already satisfied: sympy==1.13.1 in c:\\users\\ruzho\\anaconda3\\lib\\site-packages (from torch>=1.8.0->ultralytics) (1.13.1)\n",
      "Requirement already satisfied: mpmath<1.4,>=1.1.0 in c:\\users\\ruzho\\anaconda3\\lib\\site-packages (from sympy==1.13.1->torch>=1.8.0->ultralytics) (1.3.0)\n",
      "Requirement already satisfied: colorama in c:\\users\\ruzho\\anaconda3\\lib\\site-packages (from tqdm>=4.64.0->ultralytics) (0.4.6)\n",
      "Requirement already satisfied: six>=1.5 in c:\\users\\ruzho\\anaconda3\\lib\\site-packages (from python-dateutil>=2.7->matplotlib>=3.3.0->ultralytics) (1.16.0)\n",
      "Requirement already satisfied: MarkupSafe>=2.0 in c:\\users\\ruzho\\anaconda3\\lib\\site-packages (from jinja2->torch>=1.8.0->ultralytics) (2.1.3)\n",
      "Downloading ultralytics-8.3.33-py3-none-any.whl (887 kB)\n",
      "   ---------------------------------------- 0.0/887.2 kB ? eta -:--:--\n",
      "   - -------------------------------------- 41.0/887.2 kB 2.0 MB/s eta 0:00:01\n",
      "   --------- ------------------------------ 204.8/887.2 kB 2.5 MB/s eta 0:00:01\n",
      "   --------------------- ------------------ 481.3/887.2 kB 3.8 MB/s eta 0:00:01\n",
      "   ---------------------------------------  880.6/887.2 kB 5.1 MB/s eta 0:00:01\n",
      "   ---------------------------------------- 887.2/887.2 kB 4.7 MB/s eta 0:00:00\n",
      "Downloading opencv_python-4.10.0.84-cp37-abi3-win_amd64.whl (38.8 MB)\n",
      "   ---------------------------------------- 0.0/38.8 MB ? eta -:--:--\n",
      "    --------------------------------------- 0.9/38.8 MB 62.1 MB/s eta 0:00:01\n",
      "   -- ------------------------------------- 2.6/38.8 MB 27.6 MB/s eta 0:00:02\n",
      "   ---- ----------------------------------- 4.4/38.8 MB 31.4 MB/s eta 0:00:02\n",
      "   ------ --------------------------------- 6.0/38.8 MB 31.8 MB/s eta 0:00:02\n",
      "   ------ --------------------------------- 6.0/38.8 MB 31.8 MB/s eta 0:00:02\n",
      "   ------- -------------------------------- 7.6/38.8 MB 25.7 MB/s eta 0:00:02\n",
      "   -------- ------------------------------- 8.1/38.8 MB 25.8 MB/s eta 0:00:02\n",
      "   -------- ------------------------------- 8.2/38.8 MB 22.9 MB/s eta 0:00:02\n",
      "   -------- ------------------------------- 8.7/38.8 MB 19.8 MB/s eta 0:00:02\n",
      "   --------- ------------------------------ 9.1/38.8 MB 18.7 MB/s eta 0:00:02\n",
      "   --------- ------------------------------ 9.5/38.8 MB 17.9 MB/s eta 0:00:02\n",
      "   ---------- ----------------------------- 10.1/38.8 MB 17.4 MB/s eta 0:00:02\n",
      "   ----------- ---------------------------- 10.8/38.8 MB 16.4 MB/s eta 0:00:02\n",
      "   ------------ --------------------------- 12.4/38.8 MB 17.7 MB/s eta 0:00:02\n",
      "   -------------- ------------------------- 13.9/38.8 MB 16.8 MB/s eta 0:00:02\n",
      "   ---------------- ----------------------- 15.6/38.8 MB 16.8 MB/s eta 0:00:02\n",
      "   ----------------- ---------------------- 17.2/38.8 MB 18.7 MB/s eta 0:00:02\n",
      "   ------------------- -------------------- 18.6/38.8 MB 23.4 MB/s eta 0:00:01\n",
      "   -------------------- ------------------- 19.8/38.8 MB 28.4 MB/s eta 0:00:01\n",
      "   --------------------- ------------------ 21.2/38.8 MB 32.7 MB/s eta 0:00:01\n",
      "   ----------------------- ---------------- 22.5/38.8 MB 31.2 MB/s eta 0:00:01\n",
      "   ------------------------ --------------- 23.9/38.8 MB 31.1 MB/s eta 0:00:01\n",
      "   -------------------------- ------------- 25.4/38.8 MB 31.2 MB/s eta 0:00:01\n",
      "   --------------------------- ------------ 27.1/38.8 MB 32.8 MB/s eta 0:00:01\n",
      "   ---------------------------- ----------- 28.2/38.8 MB 31.2 MB/s eta 0:00:01\n",
      "   ------------------------------ --------- 29.6/38.8 MB 32.8 MB/s eta 0:00:01\n",
      "   -------------------------------- ------- 31.2/38.8 MB 31.2 MB/s eta 0:00:01\n",
      "   --------------------------------- ------ 32.9/38.8 MB 32.7 MB/s eta 0:00:01\n",
      "   ----------------------------------- ---- 34.5/38.8 MB 32.7 MB/s eta 0:00:01\n",
      "   ------------------------------------- -- 36.2/38.8 MB 32.8 MB/s eta 0:00:01\n",
      "   -------------------------------------- - 37.6/38.8 MB 32.8 MB/s eta 0:00:01\n",
      "   ---------------------------------------  38.8/38.8 MB 32.8 MB/s eta 0:00:01\n",
      "   ---------------------------------------- 38.8/38.8 MB 28.5 MB/s eta 0:00:00\n",
      "Downloading ultralytics_thop-2.0.12-py3-none-any.whl (26 kB)\n",
      "Installing collected packages: opencv-python, ultralytics-thop, ultralytics\n",
      "Successfully installed opencv-python-4.10.0.84 ultralytics-8.3.33 ultralytics-thop-2.0.12\n",
      "Note: you may need to restart the kernel to use updated packages.\n"
     ]
    }
   ],
   "source": [
    "pip install ultralytics"
   ]
  },
  {
   "cell_type": "code",
   "execution_count": 5,
   "metadata": {},
   "outputs": [
    {
     "name": "stdout",
     "output_type": "stream",
     "text": [
      "Creating new Ultralytics Settings v0.0.6 file  \n",
      "View Ultralytics Settings with 'yolo settings' or at 'C:\\Users\\ruzho\\AppData\\Roaming\\Ultralytics\\settings.json'\n",
      "Update Settings with 'yolo settings key=value', i.e. 'yolo settings runs_dir=path/to/dir'. For help see https://docs.ultralytics.com/quickstart/#ultralytics-settings.\n"
     ]
    },
    {
     "ename": "ImportError",
     "evalue": "cannot import name 'YOLOv8' from 'ultralytics' (c:\\Users\\ruzho\\anaconda3\\Lib\\site-packages\\ultralytics\\__init__.py)",
     "output_type": "error",
     "traceback": [
      "\u001b[1;31m---------------------------------------------------------------------------\u001b[0m",
      "\u001b[1;31mImportError\u001b[0m                               Traceback (most recent call last)",
      "Cell \u001b[1;32mIn[5], line 1\u001b[0m\n\u001b[1;32m----> 1\u001b[0m \u001b[38;5;28;01mfrom\u001b[39;00m \u001b[38;5;21;01multralytics\u001b[39;00m \u001b[38;5;28;01mimport\u001b[39;00m YOLOv8\n\u001b[0;32m      3\u001b[0m \u001b[38;5;66;03m# Загрузка модели\u001b[39;00m\n\u001b[0;32m      4\u001b[0m model \u001b[38;5;241m=\u001b[39m YOLOv8(\u001b[38;5;124m'\u001b[39m\u001b[38;5;124myolov8n.pt\u001b[39m\u001b[38;5;124m'\u001b[39m)\n",
      "\u001b[1;31mImportError\u001b[0m: cannot import name 'YOLOv8' from 'ultralytics' (c:\\Users\\ruzho\\anaconda3\\Lib\\site-packages\\ultralytics\\__init__.py)"
     ]
    }
   ],
   "source": [
    "from ultralytics import YOLOv8\n",
    "\n",
    "# Загрузка модели\n",
    "model = YOLOv8('yolov8n.pt')\n",
    "\n",
    "# Предсказание на изображении\n",
    "results = model.predict('path/to/image.jpg')\n",
    "\n",
    "# Вывод результатов\n",
    "for result in results:\n",
    "    print(f\"Detected {result['label']} with confidence {result['confidence']} at location {result['box']}\")\n"
   ]
  }
 ],
 "metadata": {
  "kernelspec": {
   "display_name": "base",
   "language": "python",
   "name": "python3"
  },
  "language_info": {
   "codemirror_mode": {
    "name": "ipython",
    "version": 3
   },
   "file_extension": ".py",
   "mimetype": "text/x-python",
   "name": "python",
   "nbconvert_exporter": "python",
   "pygments_lexer": "ipython3",
   "version": "3.11.7"
  }
 },
 "nbformat": 4,
 "nbformat_minor": 2
}
